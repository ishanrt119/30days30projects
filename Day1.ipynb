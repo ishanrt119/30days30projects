{
 "cells": [
  {
   "cell_type": "code",
   "execution_count": 9,
   "id": "6f6a22f4-3ed7-468c-8946-5f92cf0b54e9",
   "metadata": {},
   "outputs": [],
   "source": [
    "#Function to add two numbers\n",
    "def add(x,y):\n",
    "    return x+y"
   ]
  },
  {
   "cell_type": "code",
   "execution_count": 11,
   "id": "580b1588-c0fd-41ca-aa70-27512944b823",
   "metadata": {},
   "outputs": [],
   "source": [
    "#Function to subtract two numbers\n",
    "def subtract(x,y):\n",
    "    return x-y"
   ]
  },
  {
   "cell_type": "code",
   "execution_count": 13,
   "id": "8d26a681-5901-4667-ac2c-b0b77eab5360",
   "metadata": {},
   "outputs": [],
   "source": [
    "#Function to multiply two numbers\n",
    "def multiply(x,y):\n",
    "    return x*y"
   ]
  },
  {
   "cell_type": "code",
   "execution_count": 15,
   "id": "ccdf6bfd-18f9-4ebe-93a2-e9c0c50f3dc8",
   "metadata": {},
   "outputs": [],
   "source": [
    "#Function to divide two numbers\n",
    "def divide(x,y):\n",
    "    if(y==0):\n",
    "        return \"Error! Division by zero not allowed.\"\n",
    "    else:\n",
    "        return x/y"
   ]
  },
  {
   "cell_type": "code",
   "execution_count": 21,
   "id": "11133755-8ef1-4f52-99f2-c0c058af3606",
   "metadata": {},
   "outputs": [
    {
     "name": "stdout",
     "output_type": "stream",
     "text": [
      "Select operation :\n",
      "1. Add\n",
      "2. Subtract\n",
      "3. Multiply\n",
      "4. Divide\n"
     ]
    },
    {
     "name": "stdin",
     "output_type": "stream",
     "text": [
      "Enter your choice (1/2/3/4):  1\n",
      "Enter first number:  2\n",
      "Enter second number:  3\n"
     ]
    },
    {
     "name": "stdout",
     "output_type": "stream",
     "text": [
      "2.0 + 3.0 = 5.0\n"
     ]
    },
    {
     "name": "stdin",
     "output_type": "stream",
     "text": [
      "Do you want to perform another calculation? (yes/no) YEs\n",
      "Enter your choice (1/2/3/4):  2\n",
      "Enter first number:  5\n",
      "Enter second number:  3\n"
     ]
    },
    {
     "name": "stdout",
     "output_type": "stream",
     "text": [
      "5.0 - 3.0 = 2.0\n"
     ]
    },
    {
     "name": "stdin",
     "output_type": "stream",
     "text": [
      "Do you want to perform another calculation? (yes/no) no\n"
     ]
    },
    {
     "name": "stdout",
     "output_type": "stream",
     "text": [
      "Exiting calculator...\n"
     ]
    }
   ],
   "source": [
    "def calculator():\n",
    "    print(\"Select operation :\")\n",
    "    print(\"1. Add\")\n",
    "    print(\"2. Subtract\")\n",
    "    print(\"3. Multiply\")\n",
    "    print(\"4. Divide\")\n",
    "\n",
    "    while True:\n",
    "        choice=input(\"Enter your choice (1/2/3/4): \")\n",
    "        if choice in ['1','2','3','4']:\n",
    "            num1=float(input(\"Enter first number: \"))\n",
    "            num2=float(input(\"Enter second number: \"))\n",
    "\n",
    "            if choice == '1':\n",
    "                print(f\"{num1} + {num2} = {add(num1,num2)}\")\n",
    "\n",
    "            elif choice == '2':\n",
    "                print(f\"{num1} - {num2} = {subtract(num1,num2)}\")\n",
    "\n",
    "            elif choice == '3':\n",
    "                print(f\"{num1} * {num2} = {multiply(num1,num2)}\")\n",
    "\n",
    "            elif choice == '4':\n",
    "                print(f\"{num1} / {num2} = {divide(num1,num2)}\")\n",
    "\n",
    "            next_calculation=input(\"Do you want to perform another calculation? (yes/no)\")\n",
    "            if next_calculation.lower()!='yes':\n",
    "                break\n",
    "    print(\"Exiting calculator...\")\n",
    "\n",
    "calculator()"
   ]
  },
  {
   "cell_type": "raw",
   "id": "6c6335fa-d426-41cc-8f77-7642734780c8",
   "metadata": {},
   "source": []
  },
  {
   "cell_type": "code",
   "execution_count": null,
   "id": "00739353-68f1-4ac5-9dfd-994cb749b63d",
   "metadata": {},
   "outputs": [],
   "source": []
  },
  {
   "cell_type": "code",
   "execution_count": null,
   "id": "3330f3af-8de4-4c0d-a36c-883aa5aafec9",
   "metadata": {},
   "outputs": [],
   "source": []
  }
 ],
 "metadata": {
  "kernelspec": {
   "display_name": "Python 3 (ipykernel)",
   "language": "python",
   "name": "python3"
  },
  "language_info": {
   "codemirror_mode": {
    "name": "ipython",
    "version": 3
   },
   "file_extension": ".py",
   "mimetype": "text/x-python",
   "name": "python",
   "nbconvert_exporter": "python",
   "pygments_lexer": "ipython3",
   "version": "3.12.4"
  }
 },
 "nbformat": 4,
 "nbformat_minor": 5
}
